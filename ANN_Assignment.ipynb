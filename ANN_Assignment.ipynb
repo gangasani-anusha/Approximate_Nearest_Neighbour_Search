{
  "nbformat": 4,
  "nbformat_minor": 0,
  "metadata": {
    "colab": {
      "name": "ANN_Assignment.ipynb",
      "provenance": [],
      "authorship_tag": "ABX9TyMajvKK1H8wFTZ38FwqyMUt",
      "include_colab_link": true
    },
    "kernelspec": {
      "name": "python3",
      "display_name": "Python 3"
    },
    "language_info": {
      "name": "python"
    }
  },
  "cells": [
    {
      "cell_type": "markdown",
      "metadata": {
        "id": "view-in-github",
        "colab_type": "text"
      },
      "source": [
        "<a href=\"https://colab.research.google.com/github/gangasani-anusha/Approximate_Nearest_Neighbour_Search/blob/main/ANN_Assignment.ipynb\" target=\"_parent\"><img src=\"https://colab.research.google.com/assets/colab-badge.svg\" alt=\"Open In Colab\"/></a>"
      ]
    },
    {
      "cell_type": "markdown",
      "metadata": {
        "id": "lvoECQyaQ7iV"
      },
      "source": [
        "# Approximate Nearest Neighbor Search"
      ]
    },
    {
      "cell_type": "markdown",
      "metadata": {
        "id": "1k5asALX9OXi"
      },
      "source": [
        "## LSH"
      ]
    },
    {
      "cell_type": "code",
      "metadata": {
        "colab": {
          "base_uri": "https://localhost:8080/"
        },
        "id": "U3KAqnOSQSwp",
        "outputId": "fdc6ec14-dc2a-48c1-e38b-6c7c014aaa1a"
      },
      "source": [
        "!pip install lshashing"
      ],
      "execution_count": 169,
      "outputs": [
        {
          "output_type": "stream",
          "name": "stdout",
          "text": [
            "Requirement already satisfied: lshashing in /usr/local/lib/python3.7/dist-packages (1.1.3)\n",
            "Requirement already satisfied: joblib in /usr/local/lib/python3.7/dist-packages (from lshashing) (1.1.0)\n",
            "Requirement already satisfied: cython in /usr/local/lib/python3.7/dist-packages (from lshashing) (0.29.24)\n",
            "Requirement already satisfied: numpy in /usr/local/lib/python3.7/dist-packages (from lshashing) (1.19.5)\n"
          ]
        }
      ]
    },
    {
      "cell_type": "code",
      "metadata": {
        "colab": {
          "base_uri": "https://localhost:8080/"
        },
        "id": "nAswxrqk0qrH",
        "outputId": "8fefea4c-f2fe-4ccd-b8f2-b917f39c3b9c"
      },
      "source": [
        "from lshashing import LSHRandom\n",
        "import numpy as np\n",
        "\n",
        "# Loading the data\n",
        "lsh_data = np.random.randint(size = (10, 10), low = 0, high = 50)\n",
        "lsh_point = np.random.randint(size = (1,10), low = 0, high = 50)\n",
        "\n",
        "# Applying the LSH appropriate nearest neighbor search\n",
        "lshashing = LSHRandom(lsh_data, hash_len = 3, num_tables = 2)\n",
        "\n",
        "# Displaying data\n",
        "print(lshashing.tables[1].hash_table)\n",
        "print(lshashing.knn_search(lsh_data, lsh_point[0], k = 3, buckets = 2, radius = 2))"
      ],
      "execution_count": 170,
      "outputs": [
        {
          "output_type": "stream",
          "name": "stdout",
          "text": [
            "{25: [0, 9], 1: [1, 4], 4: [2], 0: [3, 8], 9: [5, 6], 16: [7]}\n",
            "[[48.77499359  1.        ]\n",
            " [49.71921158  2.        ]\n",
            " [51.96152423  3.        ]]\n"
          ]
        }
      ]
    },
    {
      "cell_type": "code",
      "metadata": {
        "colab": {
          "base_uri": "https://localhost:8080/"
        },
        "id": "TTPI81KO69En",
        "outputId": "81aee7c4-c4b3-40a5-e033-322e7074a890"
      },
      "source": [
        "# Loading the data\n",
        "lsh_data = np.random.randint(size = (10, 10), low = 0, high = 50)\n",
        "lsh_point = np.random.randint(size = (1, 10), low = 0, high = 50)\n",
        "\n",
        "# Applying the LSH appropriate nearest neighbor search\n",
        "lsh_random_parallel = LSHRandom(lsh_data, 4, parallel = True)\n",
        "lsh_random_parallel.knn_search(lsh_data, lsh_point[0], 5, 2, parallel = True)"
      ],
      "execution_count": 171,
      "outputs": [
        {
          "output_type": "execute_result",
          "data": {
            "text/plain": [
              "[Neighbor(index=9, distance=36.124783736376884, value=[[11  5 42]...]),\n",
              " Neighbor(index=8, distance=48.2078831727758, value=[[26 16 42]...]),\n",
              " Neighbor(index=7, distance=57.043842787806646, value=[[23 17 33]...]),\n",
              " Neighbor(index=6, distance=57.253820833198546, value=[[17 13 23]...]),\n",
              " Neighbor(index=3, distance=60.14149981501958, value=[[ 3 23 35]...])]"
            ]
          },
          "metadata": {},
          "execution_count": 171
        }
      ]
    },
    {
      "cell_type": "markdown",
      "metadata": {
        "id": "sslEmAep9U3x"
      },
      "source": [
        "## Exhaustive Search\n",
        "\n"
      ]
    },
    {
      "cell_type": "code",
      "metadata": {
        "colab": {
          "base_uri": "https://localhost:8080/"
        },
        "id": "FjEBF66MCPRF",
        "outputId": "f8768497-6b25-4f93-fe11-118c321540f0"
      },
      "source": [
        "# Compute the squared Euclidean distance\n",
        "def SED(X, Y):\n",
        "    return sum((i-j)**2 for i, j in zip(X, Y))\n",
        "\n",
        "SED( (9, 7), (3, 5) )"
      ],
      "execution_count": 172,
      "outputs": [
        {
          "output_type": "execute_result",
          "data": {
            "text/plain": [
              "40"
            ]
          },
          "metadata": {},
          "execution_count": 172
        }
      ]
    },
    {
      "cell_type": "code",
      "metadata": {
        "colab": {
          "base_uri": "https://localhost:8080/"
        },
        "id": "_VE1SV0xAux8",
        "outputId": "9efbad23-d43f-493c-9e76-4b37575d8f33"
      },
      "source": [
        "# Calculating the nearest neighbor with the reference points\n",
        "def exhaustive_search(*, es_points, exhaustive_points):\n",
        "    return {\n",
        "        query_p: min(\n",
        "            exhaustive_points,\n",
        "            key=lambda X: SED(X, query_p),\n",
        "        )\n",
        "        for query_p in es_points\n",
        "    }\n",
        "\n",
        "# Defining the data\n",
        "exhaustive_points = [ (2, 3), (1, 5), (3, 4), (5, 10) ]\n",
        "es_points = [\n",
        "    (11, 3), (2, 7), (8, 5), (1, 10), (17, 15), (7, 13), (7, 9)\n",
        "]\n",
        "\n",
        "exhaustive_search(\n",
        "    exhaustive_points = exhaustive_points,\n",
        "    es_points = es_points,\n",
        ")"
      ],
      "execution_count": 173,
      "outputs": [
        {
          "output_type": "execute_result",
          "data": {
            "text/plain": [
              "{(1, 10): (5, 10),\n",
              " (2, 7): (1, 5),\n",
              " (7, 9): (5, 10),\n",
              " (7, 13): (5, 10),\n",
              " (8, 5): (3, 4),\n",
              " (11, 3): (3, 4),\n",
              " (17, 15): (5, 10)}"
            ]
          },
          "metadata": {},
          "execution_count": 173
        }
      ]
    },
    {
      "cell_type": "markdown",
      "metadata": {
        "id": "Y7VJBvNoJrvC"
      },
      "source": [
        "## Product Quantization"
      ]
    },
    {
      "cell_type": "code",
      "metadata": {
        "colab": {
          "base_uri": "https://localhost:8080/"
        },
        "id": "i4Sw1LBgKDzn",
        "outputId": "6027c259-c026-46c0-a8a0-d20b5499832b"
      },
      "source": [
        "!pip install nanopq"
      ],
      "execution_count": 174,
      "outputs": [
        {
          "output_type": "stream",
          "name": "stdout",
          "text": [
            "Requirement already satisfied: nanopq in /usr/local/lib/python3.7/dist-packages (0.1.9)\n",
            "Requirement already satisfied: scipy in /usr/local/lib/python3.7/dist-packages (from nanopq) (1.4.1)\n",
            "Requirement already satisfied: numpy in /usr/local/lib/python3.7/dist-packages (from nanopq) (1.19.5)\n"
          ]
        }
      ]
    },
    {
      "cell_type": "code",
      "metadata": {
        "id": "RjfilhRKJv4h"
      },
      "source": [
        "# Import libraries\n",
        "import nanopq\n",
        "import numpy as np\n",
        "\n",
        "# Loading the data\n",
        "value1 = np.random.random((500, 10)).astype(np.float32)\n",
        "value2 = np.random.random((250, 10)).astype(np.float32)\n",
        "pq_query_data = np.random.random((10, )).astype(np.float32)"
      ],
      "execution_count": 175,
      "outputs": []
    },
    {
      "cell_type": "code",
      "metadata": {
        "colab": {
          "base_uri": "https://localhost:8080/"
        },
        "id": "5AUZ-TbHKLqs",
        "outputId": "141437d6-1f3b-4da0-a2d1-cb9d98206b69"
      },
      "source": [
        "pq_data = nanopq.PQ(M=2, Ks=10, verbose=True)"
      ],
      "execution_count": 176,
      "outputs": [
        {
          "output_type": "stream",
          "name": "stdout",
          "text": [
            "M: 2, Ks: 10, code_dtype: <class 'numpy.uint8'>\n"
          ]
        }
      ]
    },
    {
      "cell_type": "code",
      "metadata": {
        "colab": {
          "base_uri": "https://localhost:8080/"
        },
        "id": "Bb5GwJZVKOlH",
        "outputId": "26ee0680-3229-493b-c559-f5cd0a567f0f"
      },
      "source": [
        "pq_data = nanopq.PQ(M=2, Ks=10).fit(vecs=value2, iter=20, seed=123)"
      ],
      "execution_count": 177,
      "outputs": [
        {
          "output_type": "stream",
          "name": "stdout",
          "text": [
            "M: 2, Ks: 10, code_dtype: <class 'numpy.uint8'>\n",
            "iter: 20, seed: 123\n",
            "Training the subspace: 0 / 2\n",
            "Training the subspace: 1 / 2\n"
          ]
        }
      ]
    },
    {
      "cell_type": "code",
      "metadata": {
        "colab": {
          "base_uri": "https://localhost:8080/"
        },
        "id": "5iCgzGGPKSKB",
        "outputId": "4b0bd1a6-58ef-4ac7-94a9-a51698f73ef8"
      },
      "source": [
        "# Vectors encoded to PQ-codes.\n",
        "value1_code = pq_data.encode(vecs=value1)"
      ],
      "execution_count": 178,
      "outputs": [
        {
          "output_type": "stream",
          "name": "stdout",
          "text": [
            "Encoding the subspace: 0 / 2\n",
            "Encoding the subspace: 1 / 2\n"
          ]
        }
      ]
    },
    {
      "cell_type": "code",
      "metadata": {
        "id": "qNr3I8RyKWtS"
      },
      "source": [
        "pq_datatable = pq_data.dtable(query=pq_query_data) \n",
        "new_pq = pq_datatable.adist(codes=value1_code) \n",
        "new_pq = pq_data.dtable(query=pq_query_data).adist(codes=value1_code) \n",
        "min_value = np.argmin(new_pq)"
      ],
      "execution_count": 179,
      "outputs": []
    },
    {
      "cell_type": "code",
      "metadata": {
        "colab": {
          "base_uri": "https://localhost:8080/"
        },
        "id": "2AuPcWi-KkIc",
        "outputId": "6ba75f71-19a5-4738-c182-d29b6d691dc4"
      },
      "source": [
        "# The results by PQ\n",
        "print(new_pq[:30])\n",
        "\n",
        "# The results by the exact scan\n",
        "new_pq_exact = np.linalg.norm(value1 - pq_query_data, axis=1) ** 2\n",
        "print(new_pq_exact[:30])"
      ],
      "execution_count": 180,
      "outputs": [
        {
          "output_type": "stream",
          "name": "stdout",
          "text": [
            "[1.26356    0.9783082  1.2880634  1.3911514  1.5733516  1.4296246\n",
            " 1.2613258  0.5904324  1.1854758  1.4976234  1.3838279  0.5783453\n",
            " 0.5783453  1.0990655  1.1045363  1.0777987  1.410969   1.1162719\n",
            " 0.93581283 1.1957692  1.5360967  0.98010516 1.304497   0.70475554\n",
            " 0.83476007 0.48798016 1.6675487  1.6402427  1.0990655  0.98308283]\n",
            "[1.3995913  1.9094465  1.4047843  1.440461   2.3568137  2.0020723\n",
            " 1.8083136  1.499749   1.6971933  2.1096275  1.1967705  0.6210698\n",
            " 0.7271497  1.2041146  1.5191325  1.2733145  1.8714951  1.5218028\n",
            " 2.0556386  1.2519672  1.6659839  1.9409795  2.186497   0.60437876\n",
            " 1.1371644  1.0938314  1.9385899  1.7647533  1.512447   1.4591714 ]\n"
          ]
        }
      ]
    },
    {
      "cell_type": "code",
      "metadata": {
        "colab": {
          "base_uri": "https://localhost:8080/"
        },
        "id": "zN-AN0EEKpvc",
        "outputId": "df7f0df8-e304-4b69-9d88-fcd2002650bc"
      },
      "source": [
        "# Vectors approximately reconstructed by fetching codewords\n",
        "value1_reconstructed = pq_data.decode(codes=value1_code)\n",
        "print(value1[:3])\n",
        "print(value1_reconstructed[:3])"
      ],
      "execution_count": 181,
      "outputs": [
        {
          "output_type": "stream",
          "name": "stdout",
          "text": [
            "[[0.9599391  0.8767047  0.46805966 0.6259065  0.45718172 0.22294624\n",
            "  0.376677   0.10388424 0.6665271  0.19203015]\n",
            " [0.4754678  0.9674366  0.03166893 0.15172996 0.2985792  0.941807\n",
            "  0.9088418  0.16200083 0.9811178  0.7507475 ]\n",
            " [0.5399771  0.9317029  0.8806071  0.3913165  0.6563432  0.6473851\n",
            "  0.3269682  0.17939018 0.46680987 0.26328105]]\n",
            "[[0.74765116 0.7883339  0.5643746  0.7480175  0.43623787 0.23119187\n",
            "  0.2595143  0.3179935  0.5939355  0.17573178]\n",
            " [0.67624027 0.6764091  0.1483006  0.33546132 0.4748308  0.5377833\n",
            "  0.85469955 0.26338068 0.7303814  0.55986005]\n",
            " [0.62674683 0.6114771  0.79226565 0.35940847 0.7483627  0.76050806\n",
            "  0.31336385 0.28216836 0.24166429 0.34293252]]\n"
          ]
        }
      ]
    },
    {
      "cell_type": "markdown",
      "metadata": {
        "id": "vrQJi_pNL3Kr"
      },
      "source": [
        "## Trees and Graphs"
      ]
    },
    {
      "cell_type": "code",
      "metadata": {
        "colab": {
          "base_uri": "https://localhost:8080/"
        },
        "id": "lfTt1jkFL62e",
        "outputId": "c23940ee-9160-4ae2-eda6-661fe4e8c485"
      },
      "source": [
        "# Importing libraries \n",
        "from sklearn.neighbors import NearestNeighbors\n",
        "import numpy as np\n",
        "\n",
        "# Loading the data\n",
        "data = np.array([[-11, -5], [-8, -10], [-7, -1], [5, 3], [4, 1], [9, 8]])\n",
        "\n",
        "# Finding nearest neighbors with ball tree approach\n",
        "tg_neighbors = NearestNeighbors(n_neighbors=2, algorithm='ball_tree').fit(X)\n",
        "tg_distances, tg_indices = tg_neighbors.kneighbors(data)\n",
        "tg_indices\n",
        "tg_distances"
      ],
      "execution_count": 182,
      "outputs": [
        {
          "output_type": "execute_result",
          "data": {
            "text/plain": [
              "array([[0.        , 5.65685425],\n",
              "       [0.        , 5.83095189],\n",
              "       [0.        , 5.65685425],\n",
              "       [0.        , 2.23606798],\n",
              "       [0.        , 2.23606798],\n",
              "       [0.        , 6.40312424]])"
            ]
          },
          "metadata": {},
          "execution_count": 182
        }
      ]
    },
    {
      "cell_type": "code",
      "metadata": {
        "colab": {
          "base_uri": "https://localhost:8080/"
        },
        "id": "ONyDPTyALfsF",
        "outputId": "2e1a9526-f099-4255-fa3f-0fddf8bf9da3"
      },
      "source": [
        "tg_neighbors.kneighbors_graph(data).toarray()"
      ],
      "execution_count": 183,
      "outputs": [
        {
          "output_type": "execute_result",
          "data": {
            "text/plain": [
              "array([[1., 0., 1., 0., 0., 0.],\n",
              "       [1., 1., 0., 0., 0., 0.],\n",
              "       [1., 0., 1., 0., 0., 0.],\n",
              "       [0., 0., 0., 1., 1., 0.],\n",
              "       [0., 0., 0., 1., 1., 0.],\n",
              "       [0., 0., 0., 1., 0., 1.]])"
            ]
          },
          "metadata": {},
          "execution_count": 183
        }
      ]
    },
    {
      "cell_type": "markdown",
      "metadata": {
        "id": "Pa6ulsxo_yfW"
      },
      "source": [
        "## HNSW"
      ]
    },
    {
      "cell_type": "code",
      "metadata": {
        "colab": {
          "base_uri": "https://localhost:8080/"
        },
        "id": "IdwaNj1WPleC",
        "outputId": "6ea18e3a-b2e1-448b-bbfc-1d6ca10446ee"
      },
      "source": [
        "!pip install n2"
      ],
      "execution_count": 184,
      "outputs": [
        {
          "output_type": "stream",
          "name": "stdout",
          "text": [
            "Requirement already satisfied: n2 in /usr/local/lib/python3.7/dist-packages (0.1.7)\n",
            "Requirement already satisfied: cython in /usr/local/lib/python3.7/dist-packages (from n2) (0.29.24)\n"
          ]
        }
      ]
    },
    {
      "cell_type": "code",
      "metadata": {
        "colab": {
          "base_uri": "https://localhost:8080/"
        },
        "id": "wYAgxCURPhiv",
        "outputId": "7652b2e3-ebfe-4ede-e83d-44387c17c9bf"
      },
      "source": [
        "# Importing Libraries \n",
        "import numpy as np\n",
        "from n2 import HnswIndex\n",
        "\n",
        "# Loading data\n",
        "Values, reference = 20240, 20\n",
        "hnsw_data = np.arange(Values * reference).reshape(Values, reference)\n",
        "\n",
        "# Applying HNSW approach\n",
        "hnsw_index_data = HnswIndex(reference)\n",
        "for data in hnsw_data:\n",
        "    hnsw_index_data.add_data(data)\n",
        "hnsw_index_data.build(m=5, n_threads=3)\n",
        "print(hnsw_index_data.search_by_id(15, 36))"
      ],
      "execution_count": 185,
      "outputs": [
        {
          "output_type": "stream",
          "name": "stdout",
          "text": [
            "[15, 16, 14, 17, 13, 18, 19, 12, 20, 21, 22, 23, 11, 24, 25, 26, 27, 28, 29, 10, 30, 31, 32, 33, 34, 35, 36, 37, 38, 39, 40, 41, 9, 42, 43, 44]\n"
          ]
        }
      ]
    }
  ]
}